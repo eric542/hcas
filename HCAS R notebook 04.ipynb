{
 "cells": [
  {
   "cell_type": "markdown",
   "metadata": {},
   "source": [
    "# HCAS R notebook 03: turnover rate and PPR\n",
    "\n",
    "**Author**: Eric Lehmann, CSIRO Data61  \n",
    "**Date**: 20 May 2016\n",
    "\n",
    "**Note**: this notebook can also be viewed at https://github.com/eric542/hcas\n",
    "\n",
    "## Summary\n",
    "\n",
    "This notebook investigates the aspect of variable rate of (RS) turnover along a given ENV gradient, and how the PPR approach deals with it.\n",
    "\n",
    "## Background\n",
    "\n",
    "### GDM in ecological settings\n",
    "\n",
    "A specific characteristic of GDM is its ability to compensate for a variable rate of (species) turnover along a particular gradient. An illustrative example is that of the number of species (dissimilarity measure) as a function of precipitation: at the dry end of this (ENV) gradient, 2 sites separated by a given (ENV) distance will have a relatively large dissimilarity (in terms of species composition) compared to 2 sites separated by the same distance but located at the wet end of the precipitation gradient. \n",
    "\n",
    "The GDM will compensate for this effect by essentially transforming the ENV (precipitation) variable in such a way as to increase the (transformed) ENV distance at the dry end of the gradient (to match the increased dissimilarity) while reducing the (transformed) ENV distance at the wet end of the gradient (to match the reduced dissimilarity measure).\n",
    "\n",
    "The GDM formula implementing this transformation is as follows, with $x_p^{\\ast(i)}$ representing the $p$-th ENV variable at the $i$-th site, and $\\delta^{(ij)}$ representing the (ecological) distance between two sites $i$ and $j$ (please refer to the '*HCAS Activity 3a(1) Methods Document'*, Sec. 1.2, for more detail):\n",
    "\n",
    "$$\n",
    "\\delta^{(ij)} = \\alpha + \\sum_{p=1}^{P} \\sum_{k=1}^{K} a_{pk} \\cdot \\underbrace{\n",
    "\\Big|\\ f_{pk} \\big( x_p^{\\ast(i)} \\big) - f_{pk} \\big( x_p^{\\ast(j)} \\big) \\Big|\n",
    "}_{\\Delta x_p^{(ij)}}\n",
    "$$\n",
    "\n",
    "Here, the (I-splines) functions $f_{pk}(\\cdot)$ transform the ENV variable $x_p^{\\ast}$ so that the resulting (transformed) ENV distance $\\Delta x_p^{(ij)}$ \"appears\" larger in places along the ENV gradient where the (species) dissimilarity measure is larger (and/or vice versa), thereby leading to a larger ecological distance $\\delta$. In the specific example of precipitation, one would thus expect $\\delta$ to be larger for the 2 sites at the dry end of the precipitation gradient, compared to the 2 sites located at the wet end of the same gradient. \n",
    "\n",
    "### PPR in HCAS\n",
    "\n",
    "Typically, the GDM approach was developped principally in conjunction with ecological modelling problems to achieve the transformation discussed above. On the other hand, PPR is a generic statistical (regression) method not specifically tailored to ecological applications. If PPR is used instead of the GDM method for ENV space modelling, it would be of interest to gauge to what extent PPR is able to reproduce this compensation for variable turnover rates. This notebook is written specifically to test this, using the HCAS dataset of RS and ENV variables.\n",
    "\n",
    "It is relatively easy to get a feel for what the transformed ENV variables look like under the GDM approach: the transformed variables $f_{pk} ( x_p^{\\ast} )$ can be inspected / plotted directly. On the other hand, PPR applies a nonlinear transformation (ridge function) to a *linear combination* of the ENV variables for each ridge term, thereby making it difficult to see how each ENV variable is being processed.\n",
    "\n",
    "To circumvent this issue, we will use an \"indirect\" approach where the RS distance is investigated as a function of changes made to a single ENV variable (while keeping all other variables constant). The approach can be summarised as follows:\n",
    "\n",
    "1. Set all ENV variables to some constant (we'll use their median values, as calculated from the HCAS dataset)\n",
    "- For a single specific ENV variable, select an interval (of given width) along its gradient\n",
    "- Transform the two end points of this interval using PPR\n",
    "- Calculate the distance between the two (transformed) end points in the PPR-transformed ENV space\n",
    "- Shift the interval slightly in ENV space and repeat points 3. and 4., until the interval reaches the end of the gradient\n",
    "- Plot the line of (transformed ENV) distances as a function of the ENV variable (i.e., as a function of the interval's location along the ENV gradient).\n",
    "\n",
    "The final result (line of transformed distances vs. ENV gradient) then indicates how the RS distance varies as a function of where we are located along the ENV gradient. Again, taking precipitation as an example, one would expect this line to show greater (RS) distances at the dry end of the precipitation (ENV) gradient and smaller distances at the wet end of the gradient."
   ]
  },
  {
   "cell_type": "markdown",
   "metadata": {},
   "source": [
    "## Miscellaneous\n",
    "\n",
    "Some preliminary `R` functions and definitions."
   ]
  },
  {
   "cell_type": "code",
   "execution_count": 1,
   "metadata": {
    "collapsed": false
   },
   "outputs": [],
   "source": [
    "library(repr)\n",
    "options(repr.plot.width=6, repr.plot.height=6)\n",
    "base_path = \"//OSM-09-cdc.it.csiro.au/OSM_CBR_DP_RSII_processing/Eric/HCAS/\""
   ]
  },
  {
   "cell_type": "markdown",
   "metadata": {},
   "source": [
    "## Results\n",
    "\n",
    "Let's load up existing PPR results:"
   ]
  },
  {
   "cell_type": "code",
   "execution_count": 2,
   "metadata": {
    "collapsed": false
   },
   "outputs": [
    {
     "name": "stdout",
     "output_type": "stream",
     "text": [
      "[1] \"site_latlon\"             \"site_env_vars\"          \n",
      "[3] \"site_GDMenv_vars\"        \"site_RSorig_vars\"       \n",
      "[5] \"site_RSpca_vars\"         \"site_indx_NonZeroPCA\"   \n",
      "[7] \"pind_data_NonZeroPCA\"    \"TH_dist_data_NonZeroPCA\"\n"
     ]
    }
   ],
   "source": [
    "print( load(paste(base_path,\"HCAS_vars.Rdata\",sep='')) )"
   ]
  },
  {
   "cell_type": "code",
   "execution_count": 3,
   "metadata": {
    "collapsed": false,
    "scrolled": true
   },
   "outputs": [
    {
     "name": "stdout",
     "output_type": "stream",
     "text": [
      "[1] \"ppr_out\"\n"
     ]
    }
   ],
   "source": [
    "print( load(paste(base_path,\"hcas_eda05_PPR_subs20_scaledENV_supsmu_bass1_ppr.Rdata\",sep='')) )"
   ]
  },
  {
   "cell_type": "markdown",
   "metadata": {},
   "source": [
    "These PPR results were obtained with a subset of the 986,549 site pairs available in the HCAS dataset. To produce results below, we thus need to subsample the HCAS sites as done when the PPR was applied:"
   ]
  },
  {
   "cell_type": "code",
   "execution_count": 4,
   "metadata": {
    "collapsed": true
   },
   "outputs": [],
   "source": [
    "n_pairs = dim(pind_data_NonZeroPCA)[1]\n",
    "pair_indx_vec = seq(1, n_pairs, by=20)   # indices of pairs subset \n",
    "tmp = pind_data_NonZeroPCA[pair_indx_vec,]\n",
    "site_indx_vec = sort( unique( as.vector( tmp )))   # indices of selected sites\n",
    "n_sites = length(site_indx_vec)\n",
    "\n",
    "site_env_vars = site_env_vars[site_indx_vec,]\n",
    "\n",
    "n_env_vars = dim(site_env_vars)[2]       # nr of ENV variables\n",
    "env_names_vec = colnames(site_env_vars)  # their names"
   ]
  },
  {
   "cell_type": "markdown",
   "metadata": {},
   "source": [
    "We also need to work out what scaling parameters were used to scale the ENV variables during PPR:"
   ]
  },
  {
   "cell_type": "code",
   "execution_count": 5,
   "metadata": {
    "collapsed": true
   },
   "outputs": [],
   "source": [
    "tmp = attributes( scale(site_env_vars) )\n",
    "env_scaled_center = tmp[[3]]\n",
    "env_scaled_scale = tmp[[4]]"
   ]
  },
  {
   "cell_type": "markdown",
   "metadata": {},
   "source": [
    "We can now determine the range of values for each ENV variable (let's use their 98-th percentile range) and their average values (e.g. their median):"
   ]
  },
  {
   "cell_type": "code",
   "execution_count": 6,
   "metadata": {
    "collapsed": false
   },
   "outputs": [
    {
     "name": "stdout",
     "output_type": "stream",
     "text": [
      "Median for 1st ENV variable is: 41.2445 \n",
      "Range of values for 1st ENV variable is: 2.508537 ... 609.3534 \n"
     ]
    }
   ],
   "source": [
    "env_quant = apply(site_env_vars,2,quantile,c(.01,.5,.99))\n",
    "\n",
    "# Example:\n",
    "cat(\"Median for 1st ENV variable is:\",env_quant[2,1],\"\\n\")\n",
    "cat(\"Range of values for 1st ENV variable is:\",env_quant[1,1],\"...\",env_quant[3,1],\"\\n\")"
   ]
  },
  {
   "cell_type": "markdown",
   "metadata": {},
   "source": [
    "Let's now plot the line of RS distances vs. ENV gradient, using the precipitation variable as example. In the HCAS set of ENV variables, the (average) precipitation variable is denoted `ptamn`:"
   ]
  },
  {
   "cell_type": "code",
   "execution_count": 7,
   "metadata": {
    "collapsed": false
   },
   "outputs": [
    {
     "data": {
      "text/html": [
       "14"
      ],
      "text/latex": [
       "14"
      ],
      "text/markdown": [
       "14"
      ],
      "text/plain": [
       "[1] 14"
      ]
     },
     "execution_count": 7,
     "metadata": {},
     "output_type": "execute_result"
    }
   ],
   "source": [
    "precip_indx = which(env_names_vec=='ptamn')\n",
    "precip_indx"
   ]
  },
  {
   "cell_type": "markdown",
   "metadata": {},
   "source": [
    "We can select a sequence of points along the precipitation gradient (i.e. within the range of `ptamn` values); these will be the starting points of our precipitation (ENV) intervals:"
   ]
  },
  {
   "cell_type": "code",
   "execution_count": 8,
   "metadata": {
    "collapsed": true
   },
   "outputs": [],
   "source": [
    "n_interv = 30\n",
    "env_interv = seq(env_quant[1,precip_indx], env_quant[3,precip_indx], len=n_interv)"
   ]
  },
  {
   "cell_type": "markdown",
   "metadata": {},
   "source": [
    "Next, let's define the vector of ENV variables, setting all variables to their median:"
   ]
  },
  {
   "cell_type": "code",
   "execution_count": 9,
   "metadata": {
    "collapsed": true
   },
   "outputs": [],
   "source": [
    "env_vars = env_quant[2,]"
   ]
  },
  {
   "cell_type": "markdown",
   "metadata": {},
   "source": [
    "Let's now define the width of our intervals in ENV space for the precipitation variable, using e.g. a value of 25% of the total range along that precipitaion gradient:"
   ]
  },
  {
   "cell_type": "code",
   "execution_count": 10,
   "metadata": {
    "collapsed": true
   },
   "outputs": [],
   "source": [
    "dp = 0.25 * (env_quant[3,precip_indx] - env_quant[1,precip_indx])"
   ]
  },
  {
   "cell_type": "markdown",
   "metadata": {},
   "source": [
    "Now, a (fairly inefficient) piece of code to calculate the RS distance for each interval is as follows:"
   ]
  },
  {
   "cell_type": "code",
   "execution_count": 11,
   "metadata": {
    "collapsed": false
   },
   "outputs": [],
   "source": [
    "PPRenv_dist_vec = rep(NA, n_interv)\n",
    "for ( ii in 1:n_interv ) {\n",
    "    env_vars[precip_indx] = env_interv[ii]\n",
    "    tmp = (env_vars-env_scaled_center)/env_scaled_scale\n",
    "    rspc1_vec = predict(ppr_out, t(as.data.frame(tmp)))     # PPR-predicted RS variables of first end point\n",
    "    \n",
    "    env_vars[precip_indx] = env_interv[ii] + dp   # (we're very likely duplicating calculations here!...)\n",
    "    tmp = (env_vars-env_scaled_center)/env_scaled_scale\n",
    "    rspc2_vec = predict(ppr_out, t(as.data.frame(tmp)))     # PPR-predicted RS variables of second end point\n",
    "    \n",
    "    PPRenv_dist_vec[ii] = sum(abs(rspc2_vec - rspc1_vec))   # resulting (PPR-predicted) RS distance\n",
    "}"
   ]
  },
  {
   "cell_type": "code",
   "execution_count": 12,
   "metadata": {
    "collapsed": false
   },
   "outputs": [
    {
     "data": {
      "image/png": "[encoded data removed]",
      "text/plain": [
       "plot without title"
      ]
     },
     "metadata": {
      "image/svg+xml": {
       "isolated": true
      }
     },
     "output_type": "display_data"
    }
   ],
   "source": [
    "plot(env_interv, PPRenv_dist_vec, xlab=\"ENV variable 'ptamn' (precipitation)\", \n",
    "     ylab=\"(PPR-predicted) RS distance\", type=\"l\")\n",
    "mtext(paste(\"ENV distance between sites:\",round(dp,2),\"\\n(PPR fitted with\",n_sites,\"pairs)\"), cex=.9)"
   ]
  },
  {
   "cell_type": "markdown",
   "metadata": {},
   "source": [
    "Overall, we seem to get a plausible result, with the RS distance decreasing as the precipitation increases. This effect is even more pronounced with the variable `ptimn`, i.e. the average minimum precipitation value."
   ]
  },
  {
   "cell_type": "code",
   "execution_count": 13,
   "metadata": {
    "collapsed": false
   },
   "outputs": [
    {
     "data": {
      "image/png": "[encoded data removed]",
      "text/plain": [
       "plot without title"
      ]
     },
     "metadata": {
      "image/svg+xml": {
       "isolated": true
      }
     },
     "output_type": "display_data"
    }
   ],
   "source": [
    "indx = which(env_names_vec=='ptimn')\n",
    "env_interv = seq(env_quant[1,indx], env_quant[3,indx], len=n_interv)\n",
    "env_vars = env_quant[2,]\n",
    "dp = 0.25 * (env_quant[3,indx] - env_quant[1,indx])\n",
    "\n",
    "PPRenv_dist_vec = rep(NA, n_interv)\n",
    "for ( ii in 1:n_interv ) {\n",
    "    env_vars[indx] = env_interv[ii]\n",
    "    tmp = (env_vars-env_scaled_center)/env_scaled_scale\n",
    "    rspc1_vec = predict(ppr_out, t(as.data.frame(tmp)))     # PPR-predicted RS variables of first end point\n",
    "    \n",
    "    env_vars[indx] = env_interv[ii] + dp   # (we're very likely duplicating calculations here!...)\n",
    "    tmp = (env_vars-env_scaled_center)/env_scaled_scale\n",
    "    rspc2_vec = predict(ppr_out, t(as.data.frame(tmp)))     # PPR-predicted RS variables of second end point\n",
    "    \n",
    "    PPRenv_dist_vec[ii] = sum(abs(rspc2_vec - rspc1_vec))   # resulting (PPR-predicted) RS distance\n",
    "}\n",
    "\n",
    "plot(env_interv, PPRenv_dist_vec, xlab=\"ENV variable 'ptimn' (precipitation)\", \n",
    "     ylab=\"(PPR-predicted) RS distance\", type=\"l\")\n",
    "mtext(paste(\"ENV distance between sites:\",round(dp,2),\"\\n(PPR fitted with\",n_sites,\"pairs)\"), cex=.9)"
   ]
  },
  {
   "cell_type": "markdown",
   "metadata": {},
   "source": [
    "Other variables, such as elevation (`elvr1000mn`) have a reversed relationship with RS distance:"
   ]
  },
  {
   "cell_type": "code",
   "execution_count": 14,
   "metadata": {
    "collapsed": false
   },
   "outputs": [
    {
     "data": {
      "image/png": "[encoded data removed]",
      "text/plain": [
       "plot without title"
      ]
     },
     "metadata": {
      "image/svg+xml": {
       "isolated": true
      }
     },
     "output_type": "display_data"
    }
   ],
   "source": [
    "indx = which(env_names_vec=='elvr1000mn')\n",
    "env_interv = seq(env_quant[1,indx], env_quant[3,indx], len=n_interv)\n",
    "env_vars = env_quant[2,]\n",
    "dp = 0.25 * (env_quant[3,indx] - env_quant[1,indx])\n",
    "\n",
    "PPRenv_dist_vec = rep(NA, n_interv)\n",
    "for ( ii in 1:n_interv ) {\n",
    "    env_vars[indx] = env_interv[ii]\n",
    "    tmp = (env_vars-env_scaled_center)/env_scaled_scale\n",
    "    rspc1_vec = predict(ppr_out, t(as.data.frame(tmp)))     # PPR-predicted RS variables of first end point\n",
    "    \n",
    "    env_vars[indx] = env_interv[ii] + dp   # (we're very likely duplicating calculations here!...)\n",
    "    tmp = (env_vars-env_scaled_center)/env_scaled_scale\n",
    "    rspc2_vec = predict(ppr_out, t(as.data.frame(tmp)))     # PPR-predicted RS variables of second end point\n",
    "    \n",
    "    PPRenv_dist_vec[ii] = sum(abs(rspc2_vec - rspc1_vec))   # resulting (PPR-predicted) RS distance\n",
    "}\n",
    "\n",
    "plot(env_interv, PPRenv_dist_vec, xlab=\"ENV variable 'elvr1000mn' (elevation)\", \n",
    "     ylab=\"(PPR-predicted) RS distance\", type=\"l\")\n",
    "mtext(paste(\"ENV distance between sites:\",round(dp,2),\"\\n(PPR fitted with\",n_sites,\"pairs)\"), cex=.9)"
   ]
  },
  {
   "cell_type": "markdown",
   "metadata": {},
   "source": [
    "... while yet other variables, such as `kao20mn` (whatever that represents), have more \"wacky\" responses:"
   ]
  },
  {
   "cell_type": "code",
   "execution_count": 16,
   "metadata": {
    "collapsed": false
   },
   "outputs": [
    {
     "data": {
      "image/png": "[encoded data removed]",
      "text/plain": [
       "plot without title"
      ]
     },
     "metadata": {
      "image/svg+xml": {
       "isolated": true
      }
     },
     "output_type": "display_data"
    }
   ],
   "source": [
    "indx = which(env_names_vec=='kao20mn')\n",
    "env_interv = seq(env_quant[1,indx], env_quant[3,indx], len=n_interv)\n",
    "env_vars = env_quant[2,]\n",
    "dp = 0.25 * (env_quant[3,indx] - env_quant[1,indx])\n",
    "\n",
    "PPRenv_dist_vec = rep(NA, n_interv)\n",
    "for ( ii in 1:n_interv ) {\n",
    "    env_vars[indx] = env_interv[ii]\n",
    "    tmp = (env_vars-env_scaled_center)/env_scaled_scale\n",
    "    rspc1_vec = predict(ppr_out, t(as.data.frame(tmp)))     # PPR-predicted RS variables of first end point\n",
    "    \n",
    "    env_vars[indx] = env_interv[ii] + dp   # (we're very likely duplicating calculations here!...)\n",
    "    tmp = (env_vars-env_scaled_center)/env_scaled_scale\n",
    "    rspc2_vec = predict(ppr_out, t(as.data.frame(tmp)))     # PPR-predicted RS variables of second end point\n",
    "    \n",
    "    PPRenv_dist_vec[ii] = sum(abs(rspc2_vec - rspc1_vec))   # resulting (PPR-predicted) RS distance\n",
    "}\n",
    "\n",
    "plot(env_interv, PPRenv_dist_vec, xlab=\"ENV variable 'kao20mn'\", \n",
    "     ylab=\"(PPR-predicted) RS distance\", type=\"l\")\n",
    "mtext(paste(\"ENV distance between sites:\",round(dp,2),\"\\n(PPR fitted with\",n_sites,\"pairs)\"), cex=.9)"
   ]
  },
  {
   "cell_type": "markdown",
   "metadata": {},
   "source": [
    "Results from a similar analysis, achieved on the basis of PPR fitted to the entire HCAS dataset (986,549 site pairs, involving 422,323 sites) have been calculated offline, and can be found in the file 'HCAS_PPR_var_turnover.pdf'. These results were also computed for 4 different interval widths, corresponding to 5, 10, 25 and 50% of the ENV variables' range. Note that the use of the full dataset appears to substantially alter the responses, e.g. compared to the results achieved in this notebook.\n",
    "\n",
    "## Bottom line\n",
    "\n",
    "Perhaps more importantly than the exact RS (distance) responses obtained for each ENV variable, these results demonstrate that PPR has an inherent capacity to compensate (or at least partially account for) varying rates of (RS) turnover along a given ENV gradient. \n",
    "\n",
    "This is likely to be a reassuring insight into PPR from an ecological perspective. The possible benefits and improvements achived through the use of PPR in environmental / ecological applications (e.g. where GDM is currently being used) would represent an interesting topic of further research."
   ]
  }
 ],
 "metadata": {
  "kernelspec": {
   "display_name": "R",
   "language": "R",
   "name": "ir"
  },
  "language_info": {
   "codemirror_mode": "r",
   "file_extension": ".r",
   "mimetype": "text/x-r-source",
   "name": "R",
   "pygments_lexer": "r",
   "version": "3.2.4"
  }
 },
 "nbformat": 4,
 "nbformat_minor": 0
}
