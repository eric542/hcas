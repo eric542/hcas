{
 "cells": [
  {
   "cell_type": "markdown",
   "metadata": {},
   "source": [
    "# HCAS R notebook 02: projection pursuit regression\n",
    "\n",
    "**Author**: Eric Lehmann, CSIRO Data61  \n",
    "**Date**: 11 May 2016 (updated 20 May 2016)\n",
    "\n",
    "**Note**: this notebook can also be viewed at https://github.com/eric542/hcas\n",
    "\n",
    "## Summary\n",
    "\n",
    "This notebook documents how the projection pursuit regression (PPR) approach can be applied to the task of environmental space modelling. This approach is described in detail in the document _'HCAS Activity 3a(1): Environmental Space Modelling -- Review / Research Document (Methods Document)'_.\n",
    "\n",
    "The PPR technique is a multiple multivariate regression approach where the response (RS) variable $\\mathbf{y}$ is modelled as a sum of $k$ non-linearly transformed linear combinations of the predictor (ENV) variables $\\mathbf{x}$:\n",
    "\n",
    "$$ \\mathbb{E}( \\mathbf{y} | \\mathbf{x} ) = \\bar{\\mathbf{y}} + \\sum_{k=1}^{K} \\boldsymbol{\\alpha}_k \\cdot g_k ( \\boldsymbol{\\beta}_k^T \\mathbf{x} ) $$\n",
    "\n",
    "The terms $g_k(\\cdot)$ are called _ridge functions_, while the coefficients of the vector $\\boldsymbol{\\beta}_k$ multiplying the ENV predictors $\\mathbf{x}$ will be denoted as _term loadings_ in the following.\n",
    "\n",
    "This notebook demonstrates how the PPR model can be fitted to the HCAS dataset of RS and ENV variables."
   ]
  },
  {
   "cell_type": "markdown",
   "metadata": {},
   "source": [
    "## Miscellaneous\n",
    "\n",
    "Some preliminary `R` functions and definitions."
   ]
  },
  {
   "cell_type": "code",
   "execution_count": 1,
   "metadata": {
    "collapsed": true
   },
   "outputs": [],
   "source": [
    "# function for plotting a colorbar in plots:\n",
    "cbar = function(cmin,cmax,color_pal,ytxt=\"\") {\n",
    "    orig_mar = par(\"mar\"); cbar_mar = c(orig_mar[1]+1,0,orig_mar[3]+1,3.7)\n",
    "    par(mar=cbar_mar)\n",
    "    tmp = seq(cmin,cmax,len=100)\n",
    "    colsurf = matrix(c(tmp,tmp), nrow=2, byrow=TRUE)\n",
    "    image(c(1,2), tmp, colsurf, col=color_pal, xlim=c(1,2), ylim=c(cmin,cmax), yaxt=\"n\", xaxt=\"n\", xlab=\"\", ylab=\"\")\n",
    "    box(); axis(4); mtext(side=4, line=2.2, ytxt)\n",
    "    par(mar=orig_mar)   # reset original parameters for other plots\n",
    "}"
   ]
  },
  {
   "cell_type": "code",
   "execution_count": 2,
   "metadata": {
    "collapsed": true
   },
   "outputs": [],
   "source": [
    "# This allows to change the size of the figures in the notebook\n",
    "library(repr)\n",
    "options(repr.plot.width=6, repr.plot.height=6)"
   ]
  },
  {
   "cell_type": "code",
   "execution_count": 3,
   "metadata": {
    "collapsed": false
   },
   "outputs": [],
   "source": [
    "suppressWarnings( library(gplots, warn=FALSE) )   # for hist2d()\n",
    "cmap = c(\"#FFFFFF\",topo.colors(250))\n",
    "n_bins = 100\n",
    "base_path = \"//OSM-09-cdc.it.csiro.au/OSM_CBR_DP_RSII_processing/Eric/HCAS/\""
   ]
  },
  {
   "cell_type": "markdown",
   "metadata": {},
   "source": [
    "## Loading and pre-processing the HCAS variables\n",
    "\n",
    "The HCAS variables can be loaded from file. We will also pre-process them as per the previous notebook in this series."
   ]
  },
  {
   "cell_type": "code",
   "execution_count": 4,
   "metadata": {
    "collapsed": false
   },
   "outputs": [
    {
     "name": "stdout",
     "output_type": "stream",
     "text": [
      "[1] \"site_latlon\"             \"site_env_vars\"          \n",
      "[3] \"site_GDMenv_vars\"        \"site_RSorig_vars\"       \n",
      "[5] \"site_RSpca_vars\"         \"site_indx_NonZeroPCA\"   \n",
      "[7] \"pind_data_NonZeroPCA\"    \"TH_dist_data_NonZeroPCA\"\n"
     ]
    }
   ],
   "source": [
    "# Load HCAS variables:\n",
    "print( load(paste(base_path,\"HCAS_vars.Rdata\",sep='')) )"
   ]
  },
  {
   "cell_type": "code",
   "execution_count": 5,
   "metadata": {
    "collapsed": true
   },
   "outputs": [],
   "source": [
    "# HCAS v1.0 scaling of RS space, using only PCA1 to PCA9:\n",
    "site_RSpca_vars = site_RSpca_vars[,1:9] / 4"
   ]
  },
  {
   "cell_type": "markdown",
   "metadata": {},
   "source": [
    "There are over 425,000 sites in the HCAS dataset, which leads to a significant computational burden. While the full dataset can be, and has been processed offline (along the lines of what is presented below), we will here use a subset of sites for illustration purposes in this notebook. And because we are ultimately interested in calculating distances for a number of _pairs_ of sites, we will be subsetting the pairs rather than the sites themselves (so as to ensure we've selected specific sites that are ultimately used to calculate distances).\n",
    "\n",
    "The pairing information is contained in the variable `pind_data_NonZeroPCA` ('valid' pairs only, i.e. excluding those affected by the PCA issue discussed in the previous notebook), with a total of 986,549 pairs of sites, whose indices are stored in a 2D matrix:"
   ]
  },
  {
   "cell_type": "code",
   "execution_count": 6,
   "metadata": {
    "collapsed": false
   },
   "outputs": [
    {
     "data": {
      "text/html": [
       "<table>\n",
       "<tbody>\n",
       "\t<tr><td>762</td><td>763</td><td>764</td><td>765</td><td>766</td><td>767</td><td>768</td><td>769</td><td>770</td><td>771</td><td>772</td></tr>\n",
       "\t<tr><td>147034</td><td>147524</td><td>147083</td><td>146683</td><td>  1085</td><td>332517</td><td>   816</td><td>147737</td><td>147338</td><td>147470</td><td>  1363</td></tr>\n",
       "</tbody>\n",
       "</table>\n"
      ],
      "text/latex": [
       "\\begin{tabular}{lllllllllll}\n",
       "\t 762 & 763 & 764 & 765 & 766 & 767 & 768 & 769 & 770 & 771 & 772\\\\\n",
       "\t 147034 & 147524 & 147083 & 146683 &   1085 & 332517 &    816 & 147737 & 147338 & 147470 &   1363\\\\\n",
       "\\end{tabular}\n"
      ],
      "text/markdown": [
       "1. 762\n",
       "2. 147034\n",
       "3. 763\n",
       "4. 147524\n",
       "5. 764\n",
       "6. 147083\n",
       "7. 765\n",
       "8. 146683\n",
       "9. 766\n",
       "10. 1085\n",
       "11. 767\n",
       "12. 332517\n",
       "13. 768\n",
       "14. 816\n",
       "15. 769\n",
       "16. 147737\n",
       "17. 770\n",
       "18. 147338\n",
       "19. 771\n",
       "20. 147470\n",
       "21. 772\n",
       "22. 1363\n",
       "\n",
       "\n"
      ],
      "text/plain": [
       "       [,1]   [,2]   [,3]   [,4] [,5]   [,6] [,7]   [,8]   [,9]  [,10] [,11]\n",
       "[1,]    762    763    764    765  766    767  768    769    770    771   772\n",
       "[2,] 147034 147524 147083 146683 1085 332517  816 147737 147338 147470  1363"
      ]
     },
     "execution_count": 6,
     "metadata": {},
     "output_type": "execute_result"
    }
   ],
   "source": [
    "t( pind_data_NonZeroPCA[1000:1010,] )   # examples of paired site indices for 10 pairs"
   ]
  },
  {
   "cell_type": "markdown",
   "metadata": {},
   "source": [
    "Let's subset the available site pairs:"
   ]
  },
  {
   "cell_type": "code",
   "execution_count": 7,
   "metadata": {
    "collapsed": false
   },
   "outputs": [
    {
     "name": "stdout",
     "output_type": "stream",
     "text": [
      "Resulting nr of sites is: 7382\n",
      "Resulting nr of pairs is: 3947"
     ]
    }
   ],
   "source": [
    "n_pairs = dim(pind_data_NonZeroPCA)[1]\n",
    "p_subs_indx = seq(1, n_pairs, by=250)   # indices of pairs subset \n",
    "tmp = pind_data_NonZeroPCA[p_subs_indx,]\n",
    "subs_indx = sort( unique( as.vector( tmp )))   # sites subset: only select sites once\n",
    "site_env_vars = site_env_vars[subs_indx,]\n",
    "site_RSpca_vars = site_RSpca_vars[subs_indx,]\n",
    "\n",
    "n_sites = length(subs_indx)\n",
    "n_pairs = length(p_subs_indx)\n",
    "cat(paste(\"Resulting nr of sites is:\", n_sites))\n",
    "cat(paste(\"\\nResulting nr of pairs is:\", n_pairs))"
   ]
  },
  {
   "cell_type": "markdown",
   "metadata": {},
   "source": [
    "We will also use scaled (standardised) predictor variables:"
   ]
  },
  {
   "cell_type": "code",
   "execution_count": 8,
   "metadata": {
    "collapsed": false
   },
   "outputs": [],
   "source": [
    "site_env_vars_scld = scale(site_env_vars)"
   ]
  },
  {
   "cell_type": "markdown",
   "metadata": {},
   "source": [
    "## Projection pursuit regression\n",
    "\n",
    "The PPR approach is available within `R` as the function `ppr`:\n",
    "```\n",
    "    ppr(x, y, weights = rep(1, n),\n",
    "        ww = rep(1, q), nterms, max.terms = nterms, optlevel = 2,\n",
    "        sm.method = c(\"supsmu\", \"spline\", \"gcvspline\"),\n",
    "        bass = 0, span = 0, df = 5, gcvpen = 1, ...)\n",
    "```\n",
    "The main variables of interest are:\n",
    "\n",
    "* `x`: numeric matrix of explanatory variables. Rows represent observations, and columns represent variables. \n",
    "* `y`: numeric matrix of response variables. Rows represent observations, and columns represent variables\n",
    "* `nterms`: number of terms to include in the final model.\n",
    "* `max.terms`: maximum number of terms to choose from when building the model.\n",
    "* `sm.method`: the method used for smoothing the ridge functions. The default is to use Friedman's super smoother `supsmu`. The alternatives are to use the smoothing spline code underlying `smooth.spline`, either with a specified (equivalent) degrees of freedom for each ridge functions, or to allow the smoothness to be chosen by GCV.\n",
    "* `bass`: super smoother bass tone control used with automatic span selection; the range of values is 0 to 10, with larger values resulting in increased smoothing.\n",
    "* `span`: super smoother span control. The default, 0, results in automatic span selection by local cross validation. `span` can also take a value in (0, 1].\n",
    "* `df`: if `sm.method` is \"spline\" specifies the smoothness of each ridge term via the requested equivalent degrees of freedom.\n",
    "* `gcvpen`: if `sm.method` is \"gcvspline\" this is the penalty used in the GCV selection for each degree of freedom used. \n",
    "\n",
    "In our case, `x` represents the ENV variables and `y` represents the RS PCA variables. For illustration purposes, we will use the `supsmu` smoothing method with `bass` = 2. Exploratory analyses were carried out and indicated that these are suitable parameters for the present application / dataset."
   ]
  },
  {
   "cell_type": "markdown",
   "metadata": {},
   "source": [
    "### Determining the number of terms\n",
    "\n",
    "A typical approach to PPR is to initially run projection pursuit with 1 ridge term up to a suitable maximum number of terms. We can then examine a plot of the R-square or percentage of variation unexplained vs. the number of terms in the regression, so as to get an idea of what number of terms should be used in final PPR model."
   ]
  },
  {
   "cell_type": "code",
   "execution_count": 9,
   "metadata": {
    "collapsed": false
   },
   "outputs": [
    {
     "data": {
      "image/png": "[encoded data removed]",
      "text/plain": [
       "plot without title"
      ]
     },
     "metadata": {
      "image/svg+xml": {
       "isolated": true
      }
     },
     "output_type": "display_data"
    }
   ],
   "source": [
    "ppr_out = ppr(site_env_vars_scld, site_RSpca_vars, nterms=1, max.terms=25, sm.method='supsmu', bass=2)\n",
    "plot(ppr_out$gofn, ylab=\"residual sum of squares\", xlab=\"nr of terms\")\n",
    "mtext(paste(\"Nr. of sites in subset:\",n_sites))"
   ]
  },
  {
   "cell_type": "markdown",
   "metadata": {},
   "source": [
    "This curve usually typically exhibits a kind of kink (L-shaped curve) around some value, above which the sum of squares does not decrease much. This effect here seems to be more gradual, likely due to the amount of data points available (large number of sites). We can also see that the curve drops to zero from $k = 16$; this does not mean a perfect fit, but is more likely to results from numerical / computational issues.\n",
    "\n",
    "For illustration purpose, we will select the number of ridge terms $K$ to be 12. Fitting the PPR model to the HCAS data can then be achieved as follows:"
   ]
  },
  {
   "cell_type": "code",
   "execution_count": 10,
   "metadata": {
    "collapsed": false
   },
   "outputs": [],
   "source": [
    "ppr_out = ppr(site_env_vars_scld, site_RSpca_vars, nterms=12, sm.method='supsmu', bass=2)"
   ]
  },
  {
   "cell_type": "markdown",
   "metadata": {},
   "source": [
    "### Term loadings\n",
    "\n",
    "For each term $k$, we can plot the term loadings for the ENV variables, i.e. the coefficients in the vector $\\boldsymbol{\\beta}_k$ used in the linear combinations of the ENV variables. For instance, for $k=1$, we have the following term loadings:"
   ]
  },
  {
   "cell_type": "code",
   "execution_count": 11,
   "metadata": {
    "collapsed": false
   },
   "outputs": [
    {
     "data": {
      "image/png": "[encoded data removed]",
      "text/plain": [
       "Plot with title \"ENV variable loadings for 1st term (7382 sites)\""
      ]
     },
     "metadata": {
      "image/svg+xml": {
       "isolated": true
      }
     },
     "output_type": "display_data"
    }
   ],
   "source": [
    "layout(matrix(1:3,ncol=1)); par(mar=c(4,2,2,1))\n",
    "\n",
    "tmp = ppr_out$alpha[1:7,1]\n",
    "x = barplot(tmp, ylab=\"\", xaxt=\"n\", xlab=\"ENV vars\", \n",
    "            main=paste(\"ENV variable loadings for 1st term (\",n_sites,\" sites)\",sep=''))\n",
    "abline(h=0,lty=3); text(cex=1, x=x, y=1.3*min(tmp), ppr_out$xnames[1:7], xpd=TRUE, srt=20)\n",
    "\n",
    "tmp = ppr_out$alpha[8:14,1]\n",
    "x = barplot(tmp, ylab=\"\", xaxt=\"n\", xlab=\"ENV vars\")\n",
    "abline(h=0,lty=3); text(cex=1, x=x, y=1.3*min(tmp), ppr_out$xnames[8:14], xpd=TRUE, srt=20)\n",
    "\n",
    "tmp = ppr_out$alpha[15:ppr_out$p,1]\n",
    "x = barplot(tmp, ylab=\"\", xaxt=\"n\", xlab=\"ENV vars\")\n",
    "abline(h=0,lty=3); text(cex=1, x=x, y=1.3*min(tmp), ppr_out$xnames[15:ppr_out$p], xpd=TRUE, srt=20)"
   ]
  },
  {
   "cell_type": "markdown",
   "metadata": {},
   "source": [
    "These term loadings can be generated for each term $k=1...K$ and saved to file:"
   ]
  },
  {
   "cell_type": "code",
   "execution_count": 12,
   "metadata": {
    "collapsed": true
   },
   "outputs": [],
   "source": [
    "pdf('./HCAS_PPR_term_loadings.pdf')\n",
    "layout(matrix(1:3,ncol=1))\n",
    "for ( ii in 1:ppr_out$mu ) {\n",
    "    tmp = ppr_out$alpha[1:7,ii]\n",
    "    x = barplot(tmp, ylab=\"\", xaxt=\"n\", xlab=\"ENV vars\", \n",
    "                main=paste(\"ENV variable loadings for term \",ii,\" (\",n_sites,\" sites)\",sep=''))\n",
    "    abline(h=0,lty=3); text(cex=1, x=x, y=1.3*min(tmp), ppr_out$xnames[1:7], xpd=TRUE, srt=20)\n",
    "    tmp = ppr_out$alpha[8:14,ii]\n",
    "    x = barplot(tmp, ylab=\"\", xaxt=\"n\", xlab=\"ENV vars\")\n",
    "    abline(h=0,lty=3); text(cex=1, x=x, y=1.3*min(tmp), ppr_out$xnames[8:14], xpd=TRUE, srt=20)\n",
    "    tmp = ppr_out$alpha[15:ppr_out$p,ii]\n",
    "    x = barplot(tmp, ylab=\"\", xaxt=\"n\", xlab=\"ENV vars\")\n",
    "    abline(h=0,lty=3); text(cex=1, x=x, y=1.3*min(tmp), ppr_out$xnames[15:ppr_out$p], xpd=TRUE, srt=20)\n",
    "}\n",
    "tmp = dev.off()"
   ]
  },
  {
   "cell_type": "markdown",
   "metadata": {},
   "source": [
    "These results appear to show that all ENV variables are involved with a significant term loading in at least one linear combination, indicating that all ENV variables are seemingly relevant to the model.\n",
    "\n",
    "### Ridge functions\n",
    "\n",
    "The next step is to look at the shape of the ridge functions $g_k(\\cdot)$:"
   ]
  },
  {
   "cell_type": "code",
   "execution_count": 13,
   "metadata": {
    "collapsed": false
   },
   "outputs": [
    {
     "data": {
      "image/png": "[encoded data removed]",
      "text/plain": [
       "Plot with title \"Nr. of sites in subset: 7382\""
      ]
     },
     "metadata": {
      "image/svg+xml": {
       "isolated": true
      }
     },
     "output_type": "display_data"
    }
   ],
   "source": [
    "layout( matrix(1:12,nrow=3,byrow=T) )\n",
    "par(mar=c(4,2,2,1))\n",
    "plot(ppr_out)\n",
    "title(paste(\"Nr. of sites in subset:\",n_sites), outer = TRUE, line = -1.1)"
   ]
  },
  {
   "cell_type": "markdown",
   "metadata": {},
   "source": [
    "Each of these plots represent the nonlinear transformation performed on the linear combination terms $\\boldsymbol{\\beta}_k^T \\mathbf{x}$. THey can be used to check for evidence of over-fitting, in which case the `bass` parameter (which determines how smooth these functions are) can be fine-tuned.\n",
    "\n",
    "Note that one drawback of the PPR approach is that its results are not readily interpretable. The ridge function are applied to _linear combinations_ of the ENV variables, and it is thus virtually impossible to derive a clear physical understanding of what sort of transformation the ridge functions apply to each of the ENV variables."
   ]
  },
  {
   "cell_type": "markdown",
   "metadata": {},
   "source": [
    "### Actual vs. fitted values\n",
    "\n",
    "The PPR method has basically determined the transformations to apply to the ENV variables so that the resulting (transformed) ENV variables best correlate with the RS variables. We can thus check the relationship between these PPR-transformed ENV variables and the RS PCA variables:"
   ]
  },
  {
   "cell_type": "code",
   "execution_count": 14,
   "metadata": {
    "collapsed": false
   },
   "outputs": [
    {
     "data": {
      "image/png": "[encoded data removed]",
      "text/plain": [
       "Plot with title \"Actual RS values vs. PPR-fitted ENV values (7382 sites)\""
      ]
     },
     "metadata": {
      "image/svg+xml": {
       "isolated": true
      }
     },
     "output_type": "display_data"
    }
   ],
   "source": [
    "layout( matrix(1:9,nrow=3,byrow=T) )\n",
    "par(mar=c(3,3,2,1))\n",
    "for ( ii in 1:ppr_out$q ) {\n",
    "    plot( ppr_out$fitted.values[,ii], site_RSpca_vars[,ii], ylab=\"\", pch='.', cex=2, xlab=\"\", main='')\n",
    "    title(xlab=\"fitted ENV values\", line=2.2)\n",
    "    title(ylab=\"RS values\", line=2.2)\n",
    "    title(ppr_out$ynames[ii], line=-0.9, cex.main=0.8)\n",
    "    abline(0,1,lty=3,col='red')\n",
    "}\n",
    "title(paste(\"Actual RS values vs. PPR-fitted ENV values (\",n_sites,\" sites)\",sep=''), outer=TRUE, line=-1.1)"
   ]
  },
  {
   "cell_type": "markdown",
   "metadata": {},
   "source": [
    "We can see that a good correlation results from PPR for most of the RS and fitted ENV variables. In contrast to GDM, the PPR model thus provides a relationship between the RS and ENV variables directly, which can subsequently be used to enable further improvements of the HCAS approach, e.g. by relating the change directions in both ENV and RS spaces (degradation pathways).\n",
    "\n",
    "As a standard regression diagnostics, the residuals can also be investigated  to check for outliers and/or for any significant bias around the line at 0 (which would point to a poor model fit):"
   ]
  },
  {
   "cell_type": "code",
   "execution_count": 15,
   "metadata": {
    "collapsed": false
   },
   "outputs": [
    {
     "data": {
      "image/png": "[encoded data removed]",
      "text/plain": [
       "Plot with title \"Residuals plots for PPR-fitted ENV values (7382 sites)\""
      ]
     },
     "metadata": {
      "image/svg+xml": {
       "isolated": true
      }
     },
     "output_type": "display_data"
    }
   ],
   "source": [
    "layout( matrix(1:9,nrow=3,byrow=T) )\n",
    "par(mar=c(3,3,2,1))\n",
    "for ( ii in 1:ppr_out$q ) {\n",
    "    plot( ppr_out$fitted.values[,ii], ppr_out$residuals[,ii], ylab=\"\", pch='.', cex=2, xlab=\"\", main='')\n",
    "    title(xlab=\"fitted ENV values\", line=2.2)\n",
    "    title(ylab=\"residuals\", line=2.2)\n",
    "    title(ppr_out$ynames[ii], line=-0.9, cex.main=0.8)\n",
    "    abline(h=0,lty=3,col='red')\n",
    "}\n",
    "title(paste(\"Residuals plots for PPR-fitted ENV values (\",n_sites,\" sites)\",sep=''), outer=TRUE, line=-1.1)"
   ]
  },
  {
   "cell_type": "markdown",
   "metadata": {},
   "source": [
    "### RS distance vs. (transformed) ENV distance\n",
    "\n",
    "As mentioned in the _'HCAS 3a(1) Methods Document'_, a crucial aspect of the current GDM approach is that it provides a direct correlation between distances in the transformed ENV and the RS spaces. This subsequently allows the prediction of RS distance (based on the known ENV distance) for a test site of interest whose condition has to be inferred.\n",
    "\n",
    "It is thus important to also check the correlation among RS and ENV distances when using the PPR-fitted ENV variables. The RS distances (for each pair used in HCAS v1.0) have already been calculated offline for all pairs and saved to file. They can be loaded here as follows:"
   ]
  },
  {
   "cell_type": "code",
   "execution_count": 16,
   "metadata": {
    "collapsed": false
   },
   "outputs": [
    {
     "name": "stdout",
     "output_type": "stream",
     "text": [
      "[1] \"rsm_dist_NonZeroPCA\"\n"
     ]
    },
    {
     "data": {
      "text/html": [
       "986549"
      ],
      "text/latex": [
       "986549"
      ],
      "text/markdown": [
       "986549"
      ],
      "text/plain": [
       "[1] 986549"
      ]
     },
     "execution_count": 16,
     "metadata": {},
     "output_type": "execute_result"
    }
   ],
   "source": [
    "print( load(paste(base_path,'hcas_dist_RSpca9.Rdata',sep='')) )\n",
    "length(rsm_dist_NonZeroPCA)"
   ]
  },
  {
   "cell_type": "markdown",
   "metadata": {},
   "source": [
    "The PPR-based ENV distances can be calculated as follows. "
   ]
  },
  {
   "cell_type": "code",
   "execution_count": 17,
   "metadata": {
    "collapsed": false
   },
   "outputs": [],
   "source": [
    "site_PPRenv_vars = ppr_out$fitted.values\n",
    "PPRenv_dist = rep(NA,n_pairs)\n",
    "\n",
    "for ( pp in 1:n_pairs ) {\n",
    "    ind1 = which( subs_indx==pind_data_NonZeroPCA[p_subs_indx[pp],1] )\n",
    "    ind2 = which( subs_indx==pind_data_NonZeroPCA[p_subs_indx[pp],2] )\n",
    "    env1 = site_PPRenv_vars[ind1,] \n",
    "    env2 = site_PPRenv_vars[ind2,] \n",
    "    PPRenv_dist[pp] = sum(abs(env1-env2), na.rm=TRUE)    # Manhattan distance\n",
    "}"
   ]
  },
  {
   "cell_type": "code",
   "execution_count": 18,
   "metadata": {
    "collapsed": false
   },
   "outputs": [
    {
     "data": {
      "image/png": "[encoded data removed]",
      "text/plain": [
       "Plot with title \"\""
      ]
     },
     "metadata": {
      "image/svg+xml": {
       "isolated": true
      }
     },
     "output_type": "display_data"
    }
   ],
   "source": [
    "rsm_dist_NonZeroPCA = rsm_dist_NonZeroPCA[p_subs_indx]   # select desired pairs subset from pre-computed rsm_dist\n",
    "\n",
    "plot(PPRenv_dist, rsm_dist_NonZeroPCA, pch='.', cex=2, xlab='', ylab='', main='')\n",
    "title(xlab=\"PPR-transformed ENV distance\", ylab=\"RS distance\")\n",
    "mtext(paste(\"PPR outputs (\",n_pairs,\" pairs)\",sep=''))\n",
    "abline(0,1,lty=3,col='red')"
   ]
  },
  {
   "cell_type": "markdown",
   "metadata": {},
   "source": [
    "## Results using all available sites / pairs\n",
    "\n",
    "The above procedure has been applied offline to the entire HCAS dataset of approx. 425,000 sites (~1m pairs), using slightly different model parameters. The current results are presented below on the basis of results saved to file."
   ]
  },
  {
   "cell_type": "code",
   "execution_count": 19,
   "metadata": {
    "collapsed": false
   },
   "outputs": [
    {
     "name": "stdout",
     "output_type": "stream",
     "text": [
      "[1] \"PPRenv_dist\" \"rsm_dist\"   \n",
      "[1] \"ppr_out\"           \"env_scaled_center\" \"env_scaled_scale\" \n"
     ]
    }
   ],
   "source": [
    "print( load(paste(base_path,'hcas_eda05_PPR_subs1_scaledENV_nTerms19_supsmu_bass1_dist.Rdata',sep='')) )\n",
    "print( load(paste(base_path,'hcas_eda05_PPR_subs1_scaledENV_nTerms19_supsmu_bass1_ppr.Rdata',sep='')) )"
   ]
  },
  {
   "cell_type": "markdown",
   "metadata": {},
   "source": [
    "The second dataset also contains the scaling parameters used to scale the ENV data prior to the application of PPR.\n",
    "\n",
    "First, let's display the relationships among the RS and PPR-transformed ENV variables (when all available sites / pairs are used)."
   ]
  },
  {
   "cell_type": "code",
   "execution_count": 20,
   "metadata": {
    "collapsed": false
   },
   "outputs": [
    {
     "data": {
      "image/png": "[encoded data removed]",
      "text/plain": [
       "Plot with title \"Actual RS values vs. PPR-fitted ENV values (422323 sites)\""
      ]
     },
     "metadata": {
      "image/svg+xml": {
       "isolated": true
      }
     },
     "output_type": "display_data"
    }
   ],
   "source": [
    "# We actually have to re-load the variable 'site_RSpca_vars' here to match the results saved to \n",
    "# file: 'ppr_out' was obtained using the full dataset of RS PCA (and ENV) variables.\n",
    "load( paste(base_path,'HCAS_vars.Rdata',sep='') )\n",
    "subs_indx = sort( unique( as.vector( pind_data_NonZeroPCA )))\n",
    "site_RSpca_vars = site_RSpca_vars[subs_indx,1:9] / 4   # generates same dataset as used in the PPR fitting...\n",
    "site_env_vars = site_env_vars[subs_indx,]              # generates same dataset as used in the PPR fitting...\n",
    "n_sites = length(subs_indx)\n",
    "\n",
    "layout( matrix(1:9,nrow=3,byrow=T) ); par(mar=c(3,3,2,1))\n",
    "for ( ii in 1:ppr_out$q ) {\n",
    "    tmp = hist2d(ppr_out$fitted.values[,ii], site_RSpca_vars[,ii], nbins=c(n_bins,n_bins), col=cmap)\n",
    "    box()\n",
    "    title(xlab=\"fitted ENV values\", line=2.2)\n",
    "    title(ylab=\"RS values\", line=2.2)\n",
    "    title(ppr_out$ynames[ii], line=-0.9, cex.main=0.8)\n",
    "    abline(0,1,lty=3)\n",
    "}\n",
    "title(paste(\"Actual RS values vs. PPR-fitted ENV values (\",n_sites,\" sites)\",sep=''), outer=TRUE, line=-1.1)"
   ]
  },
  {
   "cell_type": "markdown",
   "metadata": {},
   "source": [
    "And now the RS distances vs. PPR-based ENV distances (based on all available pairs)."
   ]
  },
  {
   "cell_type": "code",
   "execution_count": 21,
   "metadata": {
    "collapsed": false
   },
   "outputs": [
    {
     "data": {
      "image/png": "[encoded data removed]"
     },
     "metadata": {
      "image/svg+xml": {
       "isolated": true
      }
     },
     "output_type": "display_data"
    }
   ],
   "source": [
    "layout(matrix(c(1,2),nrow=1), widths=c(10,1.7)); par(mar=c(5.1,4.1,4.1,1))\n",
    "tmp = hist2d(PPRenv_dist, rsm_dist, nbins=c(n_bins,n_bins), col=cmap); box()\n",
    "title( xlab=\"PPR-transformed ENV distance\", ylab=\"RS distance\", \n",
    "       main=paste(\"PPR outputs (\",length(rsm_dist),\" pairs)\",sep='') )\n",
    "abline(0,1,lty=3)\n",
    "lines(lowess(PPRenv_dist, rsm_dist), col=\"black\")\n",
    "lm_out = lm(rsm_dist~PPRenv_dist)\n",
    "abline(lm_out, col=\"red\")\n",
    "\n",
    "r2 = round(summary(lm_out)$r.squared,3)\n",
    "cc = round(cor(rsm_dist,PPRenv_dist,method='spearman'),3)\n",
    "title( main=bquote(paste('(',r^2,' = ',.(r2),\" -- Spearman's cor = \",.(cc),')',sep='')), \n",
    "       line=0.75, font.main=1, cex.main=1 )\n",
    "\n",
    "cbar(0, max(tmp$count,na.rm=T), color_pal=cmap, 'count')"
   ]
  },
  {
   "cell_type": "markdown",
   "metadata": {},
   "source": [
    "As in the GDM results (see previous notebook), there here appears to be a bias in the relationship (albeit somewhat less pronounced and more systematic / constant compared to GDM). The exact cause of this bias should be investigated further, and bias-correction methods could be used to further improve the relationship."
   ]
  },
  {
   "cell_type": "markdown",
   "metadata": {},
   "source": [
    "## Using PPR for prediction\n",
    "\n",
    "The model fitted by PPR can be used to predict the RS signal expected for a given test site. Let's first use some test ENV variables (e.g. using the first site's values):"
   ]
  },
  {
   "cell_type": "code",
   "execution_count": 22,
   "metadata": {
    "collapsed": false
   },
   "outputs": [
    {
     "data": {
      "text/html": [
       "<table>\n",
       "<thead><tr><th></th><th scope=col>elvr1000mn</th><th scope=col>geolmnagemd</th><th scope=col>gravitymn</th><th scope=col>mrvbfmn</th><th scope=col>ill20mn</th><th scope=col>kao20mn</th><th scope=col>nutrientsmd</th><th scope=col>pc1_20mn</th><th scope=col>pc2_20mn</th><th scope=col>pc3_20mn</th></tr></thead>\n",
       "<tbody>\n",
       "\t<tr><th scope=row>1</th><td>105.8544</td><td>17.02199</td><td>556.9212</td><td>3</td><td>0.2671681</td><td>0.5508563</td><td>1</td><td>0.1470244</td><td>0.1786444</td><td>1.761004</td></tr>\n",
       "</tbody>\n",
       "</table>\n"
      ],
      "text/latex": [
       "\\begin{tabular}{r|llllllllll}\n",
       "  & elvr1000mn & geolmnagemd & gravitymn & mrvbfmn & ill20mn & kao20mn & nutrientsmd & pc1_20mn & pc2_20mn & pc3_20mn\\\\\n",
       "\\hline\n",
       "\t1 & 105.8544 & 17.02199 & 556.9212 & 3 & 0.2671681 & 0.5508563 & 1 & 0.1470244 & 0.1786444 & 1.761004\\\\\n",
       "\\end{tabular}\n"
      ],
      "text/plain": [
       "  elvr1000mn geolmnagemd gravitymn mrvbfmn   ill20mn   kao20mn nutrientsmd\n",
       "1   105.8544    17.02199  556.9212       3 0.2671681 0.5508563           1\n",
       "   pc1_20mn  pc2_20mn pc3_20mn\n",
       "1 0.1470244 0.1786444 1.761004"
      ]
     },
     "execution_count": 22,
     "metadata": {},
     "output_type": "execute_result"
    },
    {
     "data": {
      "text/html": [
       "<table>\n",
       "<thead><tr><th></th><th scope=col>sme20mn</th><th scope=col>soldepthmd</th><th scope=col>eaasmn</th><th scope=col>ptamn</th><th scope=col>ptimn</th><th scope=col>txxmn</th><th scope=col>wdamn</th><th scope=col>wdimn</th><th scope=col>hstructmd</th><th scope=col>pc2_80mn</th><th scope=col>pc3_80mn</th></tr></thead>\n",
       "<tbody>\n",
       "\t<tr><th scope=row>1</th><td>0.2053831</td><td>1.29999</td><td>829.991</td><td>1213.848</td><td>3.273668</td><td>33.28135</td><td>-314.5902</td><td>-132.4414</td><td>0</td><td>0.80208</td><td>1.106816</td></tr>\n",
       "</tbody>\n",
       "</table>\n"
      ],
      "text/latex": [
       "\\begin{tabular}{r|lllllllllll}\n",
       "  & sme20mn & soldepthmd & eaasmn & ptamn & ptimn & txxmn & wdamn & wdimn & hstructmd & pc2_80mn & pc3_80mn\\\\\n",
       "\\hline\n",
       "\t1 & 0.2053831 & 1.29999 & 829.991 & 1213.848 & 3.273668 & 33.28135 & -314.5902 & -132.4414 & 0 & 0.80208 & 1.106816\\\\\n",
       "\\end{tabular}\n"
      ],
      "text/plain": [
       "    sme20mn soldepthmd  eaasmn    ptamn    ptimn    txxmn     wdamn     wdimn\n",
       "1 0.2053831    1.29999 829.991 1213.848 3.273668 33.28135 -314.5902 -132.4414\n",
       "  hstructmd pc2_80mn pc3_80mn\n",
       "1         0  0.80208 1.106816"
      ]
     },
     "execution_count": 22,
     "metadata": {},
     "output_type": "execute_result"
    }
   ],
   "source": [
    "test_env_vec = site_env_vars[1,]\n",
    "test_env_vec[1:10]\n",
    "test_env_vec[11:21]"
   ]
  },
  {
   "cell_type": "markdown",
   "metadata": {},
   "source": [
    "Before predicting the PPR output, we have to scale and center the ENV values:"
   ]
  },
  {
   "cell_type": "code",
   "execution_count": 23,
   "metadata": {
    "collapsed": false
   },
   "outputs": [
    {
     "data": {
      "text/html": [
       "<table>\n",
       "<thead><tr><th></th><th scope=col>elvr1000mn</th><th scope=col>geolmnagemd</th><th scope=col>gravitymn</th><th scope=col>mrvbfmn</th><th scope=col>ill20mn</th><th scope=col>kao20mn</th><th scope=col>nutrientsmd</th><th scope=col>pc1_20mn</th><th scope=col>pc2_20mn</th><th scope=col>pc3_20mn</th></tr></thead>\n",
       "<tbody>\n",
       "\t<tr><th scope=row>1</th><td>0.1348193</td><td>-0.4654038</td><td>2.244822</td><td>-0.0105785</td><td>1.200049</td><td>0.5960928</td><td>-0.6425369</td><td>0.5773012</td><td>-1.914766</td><td>-1.192498</td></tr>\n",
       "</tbody>\n",
       "</table>\n"
      ],
      "text/latex": [
       "\\begin{tabular}{r|llllllllll}\n",
       "  & elvr1000mn & geolmnagemd & gravitymn & mrvbfmn & ill20mn & kao20mn & nutrientsmd & pc1_20mn & pc2_20mn & pc3_20mn\\\\\n",
       "\\hline\n",
       "\t1 & 0.1348193 & -0.4654038 & 2.244822 & -0.0105785 & 1.200049 & 0.5960928 & -0.6425369 & 0.5773012 & -1.914766 & -1.192498\\\\\n",
       "\\end{tabular}\n"
      ],
      "text/plain": [
       "  elvr1000mn geolmnagemd gravitymn    mrvbfmn  ill20mn   kao20mn nutrientsmd\n",
       "1  0.1348193  -0.4654038  2.244822 -0.0105785 1.200049 0.5960928  -0.6425369\n",
       "   pc1_20mn  pc2_20mn  pc3_20mn\n",
       "1 0.5773012 -1.914766 -1.192498"
      ]
     },
     "execution_count": 23,
     "metadata": {},
     "output_type": "execute_result"
    },
    {
     "data": {
      "text/html": [
       "<table>\n",
       "<thead><tr><th></th><th scope=col>sme20mn</th><th scope=col>soldepthmd</th><th scope=col>eaasmn</th><th scope=col>ptamn</th><th scope=col>ptimn</th><th scope=col>txxmn</th><th scope=col>wdamn</th><th scope=col>wdimn</th><th scope=col>hstructmd</th><th scope=col>pc2_80mn</th><th scope=col>pc3_80mn</th></tr></thead>\n",
       "<tbody>\n",
       "\t<tr><th scope=row>1</th><td>-0.6662362</td><td>1.475215</td><td>1.300315</td><td>1.127893</td><td>-0.6304777</td><td>-0.03151726</td><td>0.7602336</td><td>0.6255421</td><td>-0.6057648</td><td>1.001506</td><td>1.823148</td></tr>\n",
       "</tbody>\n",
       "</table>\n"
      ],
      "text/latex": [
       "\\begin{tabular}{r|lllllllllll}\n",
       "  & sme20mn & soldepthmd & eaasmn & ptamn & ptimn & txxmn & wdamn & wdimn & hstructmd & pc2_80mn & pc3_80mn\\\\\n",
       "\\hline\n",
       "\t1 & -0.6662362 & 1.475215 & 1.300315 & 1.127893 & -0.6304777 & -0.03151726 & 0.7602336 & 0.6255421 & -0.6057648 & 1.001506 & 1.823148\\\\\n",
       "\\end{tabular}\n"
      ],
      "text/plain": [
       "     sme20mn soldepthmd   eaasmn    ptamn      ptimn       txxmn     wdamn\n",
       "1 -0.6662362   1.475215 1.300315 1.127893 -0.6304777 -0.03151726 0.7602336\n",
       "      wdimn  hstructmd pc2_80mn pc3_80mn\n",
       "1 0.6255421 -0.6057648 1.001506 1.823148"
      ]
     },
     "execution_count": 23,
     "metadata": {},
     "output_type": "execute_result"
    }
   ],
   "source": [
    "test_env_vec_scld = (test_env_vec - env_scaled_center) / env_scaled_scale\n",
    "test_env_vec_scld[1:10]\n",
    "test_env_vec_scld[11:21]"
   ]
  },
  {
   "cell_type": "markdown",
   "metadata": {},
   "source": [
    "We can now predict the RS signal for this vector of (scaled) ENV variables using the `predict` function:"
   ]
  },
  {
   "cell_type": "code",
   "execution_count": 24,
   "metadata": {
    "collapsed": false
   },
   "outputs": [
    {
     "data": {
      "text/html": [
       "<table>\n",
       "<thead><tr><th scope=col>rspc1</th><th scope=col>rspc2</th><th scope=col>rspc3</th><th scope=col>rspc4</th><th scope=col>rspc5</th><th scope=col>rspc6</th><th scope=col>rspc7</th><th scope=col>rspc8</th><th scope=col>rspc9</th></tr></thead>\n",
       "<tbody>\n",
       "\t<tr><td> 0.15451659</td><td> 0.05473000</td><td>-0.01607118</td><td> 0.11719187</td><td> 0.15143991</td><td> 0.02132400</td><td> 0.07982349</td><td> 0.11438562</td><td> 0.01549241</td></tr>\n",
       "</tbody>\n",
       "</table>\n"
      ],
      "text/latex": [
       "\\begin{tabular}{lllllllll}\n",
       " rspc1 & rspc2 & rspc3 & rspc4 & rspc5 & rspc6 & rspc7 & rspc8 & rspc9\\\\\n",
       "\\hline\n",
       "\t  0.15451659 &  0.05473000 & -0.01607118 &  0.11719187 &  0.15143991 &  0.02132400 &  0.07982349 &  0.11438562 &  0.01549241\\\\\n",
       "\\end{tabular}\n"
      ],
      "text/markdown": [
       "1. 0.154516586363398\n",
       "2. 0.0547299950719865\n",
       "3. -0.0160711782568232\n",
       "4. 0.117191870874981\n",
       "5. 0.151439910398435\n",
       "6. 0.0213239985317733\n",
       "7. 0.0798234875430698\n",
       "8. 0.114385619134398\n",
       "9. 0.0154924086871495\n",
       "\n",
       "\n"
      ],
      "text/plain": [
       "         rspc1   rspc2       rspc3     rspc4     rspc5    rspc6      rspc7\n",
       "[1,] 0.1545166 0.05473 -0.01607118 0.1171919 0.1514399 0.021324 0.07982349\n",
       "         rspc8      rspc9\n",
       "[1,] 0.1143856 0.01549241"
      ]
     },
     "execution_count": 24,
     "metadata": {},
     "output_type": "execute_result"
    }
   ],
   "source": [
    "t( predict(ppr_out, test_env_vec_scld) )"
   ]
  },
  {
   "cell_type": "markdown",
   "metadata": {},
   "source": [
    "And finally let's ensure we get the same prediction result as the original PPR-fitted outputs (we used the same test ENV variables as the first site that was used to fit the PPR):"
   ]
  },
  {
   "cell_type": "code",
   "execution_count": 25,
   "metadata": {
    "collapsed": false
   },
   "outputs": [
    {
     "data": {
      "text/html": [
       "<table>\n",
       "<thead><tr><th scope=col>rspc1</th><th scope=col>rspc2</th><th scope=col>rspc3</th><th scope=col>rspc4</th><th scope=col>rspc5</th><th scope=col>rspc6</th><th scope=col>rspc7</th><th scope=col>rspc8</th><th scope=col>rspc9</th></tr></thead>\n",
       "<tbody>\n",
       "\t<tr><td> 0.15451659</td><td> 0.05473000</td><td>-0.01607118</td><td> 0.11719187</td><td> 0.15143991</td><td> 0.02132400</td><td> 0.07982349</td><td> 0.11438562</td><td> 0.01549241</td></tr>\n",
       "</tbody>\n",
       "</table>\n"
      ],
      "text/latex": [
       "\\begin{tabular}{lllllllll}\n",
       " rspc1 & rspc2 & rspc3 & rspc4 & rspc5 & rspc6 & rspc7 & rspc8 & rspc9\\\\\n",
       "\\hline\n",
       "\t  0.15451659 &  0.05473000 & -0.01607118 &  0.11719187 &  0.15143991 &  0.02132400 &  0.07982349 &  0.11438562 &  0.01549241\\\\\n",
       "\\end{tabular}\n"
      ],
      "text/markdown": [
       "1. 0.154516586363398\n",
       "2. 0.0547299950719865\n",
       "3. -0.0160711782568232\n",
       "4. 0.117191870874981\n",
       "5. 0.151439910398435\n",
       "6. 0.0213239985317733\n",
       "7. 0.0798234875430698\n",
       "8. 0.114385619134398\n",
       "9. 0.0154924086871495\n",
       "\n",
       "\n"
      ],
      "text/plain": [
       "         rspc1   rspc2       rspc3     rspc4     rspc5    rspc6      rspc7\n",
       "[1,] 0.1545166 0.05473 -0.01607118 0.1171919 0.1514399 0.021324 0.07982349\n",
       "         rspc8      rspc9\n",
       "[1,] 0.1143856 0.01549241"
      ]
     },
     "execution_count": 25,
     "metadata": {},
     "output_type": "execute_result"
    }
   ],
   "source": [
    "t( ppr_out$fitted.values[1,] )"
   ]
  },
  {
   "cell_type": "markdown",
   "metadata": {},
   "source": [
    "Looks like a pretty good match... :-)\n",
    "\n",
    "And of course, we can predict at any point of interest in ENV space (e.g. as we would do when extrapolating to the whole of Australia):"
   ]
  },
  {
   "cell_type": "code",
   "execution_count": 26,
   "metadata": {
    "collapsed": false
   },
   "outputs": [
    {
     "data": {
      "text/html": [
       "<table>\n",
       "<thead><tr><th scope=col>rspc1</th><th scope=col>rspc2</th><th scope=col>rspc3</th><th scope=col>rspc4</th><th scope=col>rspc5</th><th scope=col>rspc6</th><th scope=col>rspc7</th><th scope=col>rspc8</th><th scope=col>rspc9</th></tr></thead>\n",
       "<tbody>\n",
       "\t<tr><td>0.03781781</td><td>0.21943967</td><td>0.16471103</td><td>0.11061139</td><td>0.14657156</td><td>0.02256508</td><td>0.07591738</td><td>0.11368506</td><td>0.01381176</td></tr>\n",
       "</tbody>\n",
       "</table>\n"
      ],
      "text/latex": [
       "\\begin{tabular}{lllllllll}\n",
       " rspc1 & rspc2 & rspc3 & rspc4 & rspc5 & rspc6 & rspc7 & rspc8 & rspc9\\\\\n",
       "\\hline\n",
       "\t 0.03781781 & 0.21943967 & 0.16471103 & 0.11061139 & 0.14657156 & 0.02256508 & 0.07591738 & 0.11368506 & 0.01381176\\\\\n",
       "\\end{tabular}\n"
      ],
      "text/markdown": [
       "1. 0.0378178080283349\n",
       "2. 0.219439671214119\n",
       "3. 0.164711027276289\n",
       "4. 0.110611385057266\n",
       "5. 0.146571561707637\n",
       "6. 0.0225650758610261\n",
       "7. 0.0759173846113226\n",
       "8. 0.113685056278217\n",
       "9. 0.0138117566417335\n",
       "\n",
       "\n"
      ],
      "text/plain": [
       "          rspc1     rspc2    rspc3     rspc4     rspc5      rspc6      rspc7\n",
       "[1,] 0.03781781 0.2194397 0.164711 0.1106114 0.1465716 0.02256508 0.07591738\n",
       "         rspc8      rspc9\n",
       "[1,] 0.1136851 0.01381176"
      ]
     },
     "execution_count": 26,
     "metadata": {},
     "output_type": "execute_result"
    }
   ],
   "source": [
    "# Example: some hand-picked values:\n",
    "test_env_vec = t(as.data.frame( c(100,15,500,2,0.5,0.6,1.5,0.2,0.2,2,0.1,1.5,800,1000,4,30,-300,-100,0,1,1) ))\n",
    "test_env_vec_scld = (test_env_vec - env_scaled_center) / env_scaled_scale\n",
    "t( predict(ppr_out, test_env_vec_scld) )"
   ]
  },
  {
   "cell_type": "code",
   "execution_count": 27,
   "metadata": {
    "collapsed": false
   },
   "outputs": [
    {
     "data": {
      "text/html": [
       "<table>\n",
       "<thead><tr><th scope=col>rspc1</th><th scope=col>rspc2</th><th scope=col>rspc3</th><th scope=col>rspc4</th><th scope=col>rspc5</th><th scope=col>rspc6</th><th scope=col>rspc7</th><th scope=col>rspc8</th><th scope=col>rspc9</th></tr></thead>\n",
       "<tbody>\n",
       "\t<tr><td> 0.04853165</td><td> 0.05014709</td><td>-0.01925650</td><td> 0.12123518</td><td> 0.13427694</td><td> 0.02249449</td><td> 0.08249704</td><td> 0.10891992</td><td> 0.01818117</td></tr>\n",
       "</tbody>\n",
       "</table>\n"
      ],
      "text/latex": [
       "\\begin{tabular}{lllllllll}\n",
       " rspc1 & rspc2 & rspc3 & rspc4 & rspc5 & rspc6 & rspc7 & rspc8 & rspc9\\\\\n",
       "\\hline\n",
       "\t  0.04853165 &  0.05014709 & -0.01925650 &  0.12123518 &  0.13427694 &  0.02249449 &  0.08249704 &  0.10891992 &  0.01818117\\\\\n",
       "\\end{tabular}\n"
      ],
      "text/markdown": [
       "1. 0.0485316541048638\n",
       "2. 0.0501470869236508\n",
       "3. -0.0192565019121045\n",
       "4. 0.121235181863442\n",
       "5. 0.134276935641857\n",
       "6. 0.022494487858748\n",
       "7. 0.0824970352163694\n",
       "8. 0.108919921703137\n",
       "9. 0.0181811740804841\n",
       "\n",
       "\n"
      ],
      "text/plain": [
       "          rspc1      rspc2      rspc3     rspc4     rspc5      rspc6      rspc7\n",
       "[1,] 0.04853165 0.05014709 -0.0192565 0.1212352 0.1342769 0.02249449 0.08249704\n",
       "         rspc8      rspc9\n",
       "[1,] 0.1089199 0.01818117"
      ]
     },
     "execution_count": 27,
     "metadata": {},
     "output_type": "execute_result"
    }
   ],
   "source": [
    "# Example: median ENV values:\n",
    "test_env_vec = t(as.data.frame( apply(site_env_vars,2,median) ))\n",
    "test_env_vec_scld = (test_env_vec - env_scaled_center) / env_scaled_scale\n",
    "t( predict(ppr_out, test_env_vec_scld) )"
   ]
  }
 ],
 "metadata": {
  "kernelspec": {
   "display_name": "R",
   "language": "R",
   "name": "ir"
  },
  "language_info": {
   "codemirror_mode": "r",
   "file_extension": ".r",
   "mimetype": "text/x-r-source",
   "name": "R",
   "pygments_lexer": "r",
   "version": "3.2.4"
  }
 },
 "nbformat": 4,
 "nbformat_minor": 0
}
