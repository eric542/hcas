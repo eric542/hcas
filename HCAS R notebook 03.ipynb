{
 "cells": [
  {
   "cell_type": "markdown",
   "metadata": {},
   "source": [
    "# HCAS R notebook 03: PPR vs. GDM\n",
    "\n",
    "**Author**: Eric Lehmann, CSIRO Data61  \n",
    "**Date**: 20 May 2016\n",
    "\n",
    "**Note**: this notebook can also be viewed at https://github.com/eric542/hcas\n",
    "\n",
    "## Summary\n",
    "\n",
    "This notebook simply re-generates the main results obtained in the first and second notebooks in this series. It simply shows the RS vs. (transformed) ENV distance plots side-by-side for GDM and PPR, for ease of comparison.\n",
    "\n",
    "The PPR results shown in this notebook were obtained using all available \"training\" data (422,323 sites, 986,549 pairs) using Friedman's \"supersmoother\" function with a `bass` factor of 1, and a total of 19 ridge terms."
   ]
  },
  {
   "cell_type": "markdown",
   "metadata": {},
   "source": [
    "## Miscellaneous\n",
    "\n",
    "Some preliminary `R` functions and definitions."
   ]
  },
  {
   "cell_type": "code",
   "execution_count": 1,
   "metadata": {
    "collapsed": true
   },
   "outputs": [],
   "source": [
    "# function for plotting a colorbar in plots:\n",
    "cbar = function(cmin,cmax,color_pal,ytxt=\"\") {\n",
    "    orig_mar = par(\"mar\"); cbar_mar = c(orig_mar[1]+1,0.1,orig_mar[3]+1,3.7)\n",
    "    par(mar=cbar_mar)\n",
    "    tmp = seq(cmin,cmax,len=100)\n",
    "    colsurf = matrix(c(tmp,tmp), nrow=2, byrow=TRUE)\n",
    "    image(c(1,2), tmp, colsurf, col=color_pal, xlim=c(1,2), ylim=c(cmin,cmax), yaxt=\"n\", xaxt=\"n\", xlab=\"\", ylab=\"\")\n",
    "    box(); axis(4); mtext(side=4, line=2.2, ytxt, cex=.75)\n",
    "    par(mar=orig_mar)   # reset original parameters for other plots\n",
    "}"
   ]
  },
  {
   "cell_type": "code",
   "execution_count": 2,
   "metadata": {
    "collapsed": false
   },
   "outputs": [],
   "source": [
    "library(repr)\n",
    "suppressWarnings( library(gplots, warn=FALSE) )   # for hist2d()\n",
    "cmap = c(\"#FFFFFF\",topo.colors(250))\n",
    "n_bins = 100\n",
    "base_path = \"//OSM-09-cdc.it.csiro.au/OSM_CBR_DP_RSII_processing/Eric/HCAS/\""
   ]
  },
  {
   "cell_type": "markdown",
   "metadata": {},
   "source": [
    "## PPR vs. GDM distance plots"
   ]
  },
  {
   "cell_type": "code",
   "execution_count": 3,
   "metadata": {
    "collapsed": true
   },
   "outputs": [],
   "source": [
    "# GDM results:\n",
    "load(paste(base_path,\"hcas_dist_GDMenv.Rdata\",sep=''))\n",
    "load(paste(base_path,\"hcas_dist_RSpca9.Rdata\",sep=''))\n",
    "\n",
    "# PPR results:\n",
    "load( paste(base_path,'hcas_eda05_PPR_subs1_scaledENV_nTerms19_supsmu_bass1_dist.Rdata',sep='') )"
   ]
  },
  {
   "cell_type": "code",
   "execution_count": 4,
   "metadata": {
    "collapsed": false
   },
   "outputs": [
    {
     "data": {
      "image/png": "[encoded data removed]"
     },
     "metadata": {
      "image/svg+xml": {
       "isolated": true
      }
     },
     "output_type": "display_data"
    }
   ],
   "source": [
    "options(repr.plot.width=9, repr.plot.height=4.5)\n",
    "layout(matrix(1:4,nrow=1), widths=c(10,1.7,10,1.7))\n",
    "par(mar=c(5.1,4.1,4.1,1))\n",
    "\n",
    "###########################\n",
    "# GDM results:\n",
    "n_pairs = length(env_dist_NonZeroPCA)\n",
    "\n",
    "# histogram of distances:\n",
    "tmp = hist2d( env_dist_NonZeroPCA, rsm_dist_NonZeroPCA, nbins=c(n_bins,n_bins), \n",
    "              col=cmap, ylim=c(0,1), xlim=c(0,1), asp=1 )\n",
    "title( xlab=\"GDM-transformed ENV distance\", ylab=\"RS distance\", \n",
    "       main=paste(\"GDM outputs (\",n_pairs,\" pairs)\",sep='') ); box()\n",
    "\n",
    "# LM and polynomial fits:\n",
    "abline(0,1,lty=3)\n",
    "lines(lowess(env_dist_NonZeroPCA, rsm_dist_NonZeroPCA), col=\"black\")\n",
    "GDMlm_out = lm(rsm_dist_NonZeroPCA~env_dist_NonZeroPCA)\n",
    "abline(GDMlm_out, col=\"red\")\n",
    "\n",
    "# correlation coefficients:\n",
    "r2 = round(summary(GDMlm_out)$r.squared,3)\n",
    "cc = round(cor(rsm_dist_NonZeroPCA, env_dist_NonZeroPCA, method='spearman'),3)\n",
    "title( main=bquote(paste('(',r^2,' = ',.(r2),\" -- Spearman's correlation = \",.(cc),')',sep='')), \n",
    "       line=0.75, font.main=1, cex.main=1 )\n",
    "\n",
    "cbar(0, max(tmp$count,na.rm=T), color_pal=cmap, 'count')\n",
    "\n",
    "###########################\n",
    "# PPR results:\n",
    "n_pairs = length(PPRenv_dist)\n",
    "\n",
    "# histogram of distances:\n",
    "tmp = hist2d(PPRenv_dist, rsm_dist, nbins=c(n_bins,n_bins), \n",
    "             col=cmap, ylim=c(0,1), xlim=c(0,1), asp=1 ); box()\n",
    "title( xlab=\"PPR-transformed ENV distance\", ylab=\"RS distance\", \n",
    "       main=paste(\"PPR outputs (\",length(rsm_dist),\" pairs)\",sep='') )\n",
    "\n",
    "\n",
    "# LM and polynomial fits:\n",
    "abline(0,1,lty=3)\n",
    "lines(lowess(PPRenv_dist, rsm_dist), col=\"black\")\n",
    "PPRlm_out = lm(rsm_dist~PPRenv_dist)\n",
    "abline(PPRlm_out, col=\"red\")\n",
    "\n",
    "# correlation coefficients:\n",
    "r2 = round(summary(PPRlm_out)$r.squared,3)\n",
    "cc = round(cor(rsm_dist,PPRenv_dist,method='spearman'),3)\n",
    "title( main=bquote(paste('(',r^2,' = ',.(r2),\" -- Spearman's correlation = \",.(cc),')',sep='')), \n",
    "       line=0.75, font.main=1, cex.main=1 )\n",
    "\n",
    "cbar(0, max(tmp$count,na.rm=T), color_pal=cmap, 'count')"
   ]
  },
  {
   "cell_type": "markdown",
   "metadata": {},
   "source": [
    "Comparing the $r^2$ or Spearman correlation values, we can see that the PPR approach achieves a better correlation between the RS distances and (transformed) ENV distances.\n",
    "\n",
    "Also, we can see that there is some residual bias with both the GDM and PPR approaches. PPR however seems to be better at reducing it than GDM (visually).\n",
    "\n",
    "The fitted coefficients of the above distance relationships (LM fit) are as follows:"
   ]
  },
  {
   "cell_type": "code",
   "execution_count": 5,
   "metadata": {
    "collapsed": false
   },
   "outputs": [
    {
     "name": "stdout",
     "output_type": "stream",
     "text": [
      "     [,1]                                                           \n",
      "[1,] \"                     Estimate Std. Error t value Pr(>|t|)    \"\n",
      "[2,] \"(Intercept)         0.0598509  0.0001507   397.1   <2e-16 ***\"\n",
      "[3,] \"env_dist_NonZeroPCA 0.7238537  0.0004964  1458.3   <2e-16 ***\"\n"
     ]
    }
   ],
   "source": [
    "# GDM results:\n",
    "print( t(t(capture.output(summary(GDMlm_out))[10:12])) )"
   ]
  },
  {
   "cell_type": "code",
   "execution_count": 6,
   "metadata": {
    "collapsed": false
   },
   "outputs": [
    {
     "name": "stdout",
     "output_type": "stream",
     "text": [
      "     [,1]                                                   \n",
      "[1,] \"             Estimate Std. Error t value Pr(>|t|)    \"\n",
      "[2,] \"(Intercept) 0.0645515  0.0001221   528.6   <2e-16 ***\"\n",
      "[3,] \"PPRenv_dist 0.9133001  0.0005067  1802.4   <2e-16 ***\"\n"
     ]
    }
   ],
   "source": [
    "# PPR results\n",
    "print( t(t(capture.output(summary(PPRlm_out))[10:12])) )"
   ]
  },
  {
   "cell_type": "markdown",
   "metadata": {},
   "source": [
    "While the intercept of the PPR relationship is slightly higher than that of the GDM, the estimated slope coefficient is much closer to 1 (1:1 relationship)."
   ]
  }
 ],
 "metadata": {
  "kernelspec": {
   "display_name": "R",
   "language": "R",
   "name": "ir"
  },
  "language_info": {
   "codemirror_mode": "r",
   "file_extension": ".r",
   "mimetype": "text/x-r-source",
   "name": "R",
   "pygments_lexer": "r",
   "version": "3.2.4"
  }
 },
 "nbformat": 4,
 "nbformat_minor": 0
}
